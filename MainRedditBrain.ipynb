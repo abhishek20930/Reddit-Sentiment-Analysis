{
  "cells": [
    {
      "cell_type": "markdown",
      "metadata": {
        "id": "vFSn5OWzA6zW"
      },
      "source": [
        "### <center> **Main Reddit Brain**\n",
        "<center><em> \n",
        "We are going to be using the praw python API to collect reddit posts and comments with *what products we want* as the subject matter.\n",
        "</em></center>\n",
        "<br>\n",
        "<center><img src=\"https://github.com/kkrusere/NLP-Sentiment-Analysis-on-Twitter-and-Reddit-Data/blob/main/Assets/reddit.png?raw=1\" width=200/></center>"
      ]
    },
    {
      "cell_type": "code",
      "execution_count": null,
      "metadata": {
        "colab": {
          "base_uri": "https://localhost:8080/"
        },
        "id": "7c4evvoyA6za",
        "outputId": "7a33e0f0-8421-48a9-fcd5-93170d6b4f74"
      },
      "outputs": [
        {
          "output_type": "stream",
          "name": "stdout",
          "text": [
            "Looking in indexes: https://pypi.org/simple, https://us-python.pkg.dev/colab-wheels/public/simple/\n",
            "Collecting praw\n",
            "  Downloading praw-7.7.0-py3-none-any.whl (189 kB)\n",
            "\u001b[2K     \u001b[90m━━━━━━━━━━━━━━━━━━━━━━━━━━━━━━━━━━━━━━━\u001b[0m \u001b[32m189.4/189.4 kB\u001b[0m \u001b[31m4.3 MB/s\u001b[0m eta \u001b[36m0:00:00\u001b[0m\n",
            "\u001b[?25hCollecting update-checker>=0.18\n",
            "  Downloading update_checker-0.18.0-py3-none-any.whl (7.0 kB)\n",
            "Requirement already satisfied: websocket-client>=0.54.0 in /usr/local/lib/python3.9/dist-packages (from praw) (1.5.1)\n",
            "Collecting prawcore<3,>=2.1\n",
            "  Downloading prawcore-2.3.0-py3-none-any.whl (16 kB)\n",
            "Requirement already satisfied: requests<3.0,>=2.6.0 in /usr/local/lib/python3.9/dist-packages (from prawcore<3,>=2.1->praw) (2.27.1)\n",
            "Requirement already satisfied: certifi>=2017.4.17 in /usr/local/lib/python3.9/dist-packages (from requests<3.0,>=2.6.0->prawcore<3,>=2.1->praw) (2022.12.7)\n",
            "Requirement already satisfied: charset-normalizer~=2.0.0 in /usr/local/lib/python3.9/dist-packages (from requests<3.0,>=2.6.0->prawcore<3,>=2.1->praw) (2.0.12)\n",
            "Requirement already satisfied: idna<4,>=2.5 in /usr/local/lib/python3.9/dist-packages (from requests<3.0,>=2.6.0->prawcore<3,>=2.1->praw) (3.4)\n",
            "Requirement already satisfied: urllib3<1.27,>=1.21.1 in /usr/local/lib/python3.9/dist-packages (from requests<3.0,>=2.6.0->prawcore<3,>=2.1->praw) (1.26.15)\n",
            "Installing collected packages: update-checker, prawcore, praw\n",
            "Successfully installed praw-7.7.0 prawcore-2.3.0 update-checker-0.18.0\n"
          ]
        },
        {
          "output_type": "stream",
          "name": "stderr",
          "text": [
            "WARNING:praw:It appears that you are using PRAW in an asynchronous environment.\n",
            "It is strongly recommended to use Async PRAW: https://asyncpraw.readthedocs.io.\n",
            "See https://praw.readthedocs.io/en/latest/getting_started/multiple_instances.html#discord-bots-and-asynchronous-environments for more info.\n",
            "\n"
          ]
        },
        {
          "output_type": "stream",
          "name": "stdout",
          "text": [
            "Authentication for manofmyth23 is verified.\n"
          ]
        }
      ],
      "source": [
        "clientid = \"Xd5MiyoeEEekSgXVvqvKtw\"\n",
        "clientsecret = \t\"pyu0f5nbfC7FsxCBqjUo-kudO95Xdw\"\n",
        "user_agent = \"python:demoapp:v1.0.0  (by  u/manofmyth23)\"\n",
        "username = \"manofmyth23\"\n",
        "password = \"uaxpocder\"\n",
        "\n",
        "!pip install praw\n",
        "import praw\n",
        "import datetime\n",
        "import pandas as pd\n",
        "\n",
        "reddit = praw.Reddit(client_id=clientid,\n",
        "                     client_secret=clientsecret,\n",
        "                     password=password,\n",
        "                     user_agent= user_agent,\n",
        "                     username=username)\n",
        "\n",
        "print(\"Authentication for \" + str(reddit.user.me()) + \" is verified.\")\n"
      ]
    },
    {
      "cell_type": "code",
      "execution_count": null,
      "metadata": {
        "id": "fDrygpWwA6ze"
      },
      "outputs": [],
      "source": [
        "sortsub = \"hot\""
      ]
    },
    {
      "cell_type": "code",
      "execution_count": null,
      "metadata": {
        "id": "z45W4XhSA6zg"
      },
      "outputs": [],
      "source": [
        "def get_data_dict(search_term, sortsub):\n",
        "    data_dict = {\n",
        "    \"subject\": list(),\n",
        "    \"Title\" : list(),\n",
        "    \"score\": list(),\n",
        "    \"num_comments\" : list(),\n",
        "    \"url\" : list(),\n",
        "    \"domain\" : list(),\n",
        "    \"selftext\":list(),\n",
        "    \"permalink\" : list(),\n",
        "    \"id\" : list(),\n",
        "    \"subreddit\" : list(),\n",
        "    \"time_stamp\" : list()\n",
        "    }\n",
        "    print(f\"this is the searchterm  {search_term}\")\n",
        "\n",
        "    for submission in reddit.subreddit('videos').search(search_term.lower(), sort=sortsub,limit=500):\n",
        "        \n",
        "        data_dict[\"subject\"].append(search_term.lower())\n",
        "        data_dict[\"Title\"].append(submission.title)\n",
        "        data_dict[\"score\"].append(submission.score)\n",
        "        data_dict[\"num_comments\"].append(submission.num_comments)\n",
        "        data_dict[\"url\"].append(submission.url)\n",
        "        data_dict[\"domain\"].append(submission.domain)\n",
        "        data_dict[\"selftext\"].append(submission.selftext)\n",
        "        data_dict[\"permalink\"].append(submission.permalink)\n",
        "        data_dict[\"id\"].append(submission.id)\n",
        "        data_dict[\"subreddit\"].append(submission.subreddit)\n",
        "        data_dict[\"time_stamp\"].append(datetime.datetime.utcfromtimestamp(submission.created).strftime('%m-%d-%Y'))\n",
        "\n",
        "    return data_dict"
      ]
    },
    {
      "cell_type": "code",
      "execution_count": null,
      "metadata": {
        "colab": {
          "base_uri": "https://localhost:8080/"
        },
        "id": "eylkfkMWA6zg",
        "outputId": "e61f196a-b7e1-463e-9e0c-89b933bee076"
      },
      "outputs": [
        {
          "output_type": "stream",
          "name": "stderr",
          "text": [
            "WARNING:praw:It appears that you are using PRAW in an asynchronous environment.\n",
            "It is strongly recommended to use Async PRAW: https://asyncpraw.readthedocs.io.\n",
            "See https://praw.readthedocs.io/en/latest/getting_started/multiple_instances.html#discord-bots-and-asynchronous-environments for more info.\n",
            "\n"
          ]
        },
        {
          "output_type": "stream",
          "name": "stdout",
          "text": [
            "this is the searchterm  \"Basketball\"\n"
          ]
        },
        {
          "output_type": "stream",
          "name": "stderr",
          "text": [
            "WARNING:praw:It appears that you are using PRAW in an asynchronous environment.\n",
            "It is strongly recommended to use Async PRAW: https://asyncpraw.readthedocs.io.\n",
            "See https://praw.readthedocs.io/en/latest/getting_started/multiple_instances.html#discord-bots-and-asynchronous-environments for more info.\n",
            "\n",
            "WARNING:praw:It appears that you are using PRAW in an asynchronous environment.\n",
            "It is strongly recommended to use Async PRAW: https://asyncpraw.readthedocs.io.\n",
            "See https://praw.readthedocs.io/en/latest/getting_started/multiple_instances.html#discord-bots-and-asynchronous-environments for more info.\n",
            "\n",
            "WARNING:praw:It appears that you are using PRAW in an asynchronous environment.\n",
            "It is strongly recommended to use Async PRAW: https://asyncpraw.readthedocs.io.\n",
            "See https://praw.readthedocs.io/en/latest/getting_started/multiple_instances.html#discord-bots-and-asynchronous-environments for more info.\n",
            "\n"
          ]
        },
        {
          "output_type": "stream",
          "name": "stdout",
          "text": [
            "this is the searchterm  \"Train\"\n"
          ]
        },
        {
          "output_type": "stream",
          "name": "stderr",
          "text": [
            "WARNING:praw:It appears that you are using PRAW in an asynchronous environment.\n",
            "It is strongly recommended to use Async PRAW: https://asyncpraw.readthedocs.io.\n",
            "See https://praw.readthedocs.io/en/latest/getting_started/multiple_instances.html#discord-bots-and-asynchronous-environments for more info.\n",
            "\n",
            "WARNING:praw:It appears that you are using PRAW in an asynchronous environment.\n",
            "It is strongly recommended to use Async PRAW: https://asyncpraw.readthedocs.io.\n",
            "See https://praw.readthedocs.io/en/latest/getting_started/multiple_instances.html#discord-bots-and-asynchronous-environments for more info.\n",
            "\n",
            "WARNING:praw:It appears that you are using PRAW in an asynchronous environment.\n",
            "It is strongly recommended to use Async PRAW: https://asyncpraw.readthedocs.io.\n",
            "See https://praw.readthedocs.io/en/latest/getting_started/multiple_instances.html#discord-bots-and-asynchronous-environments for more info.\n",
            "\n"
          ]
        },
        {
          "output_type": "stream",
          "name": "stdout",
          "text": [
            "this is the searchterm  \"Parrot\"\n"
          ]
        },
        {
          "output_type": "stream",
          "name": "stderr",
          "text": [
            "WARNING:praw:It appears that you are using PRAW in an asynchronous environment.\n",
            "It is strongly recommended to use Async PRAW: https://asyncpraw.readthedocs.io.\n",
            "See https://praw.readthedocs.io/en/latest/getting_started/multiple_instances.html#discord-bots-and-asynchronous-environments for more info.\n",
            "\n",
            "WARNING:praw:It appears that you are using PRAW in an asynchronous environment.\n",
            "It is strongly recommended to use Async PRAW: https://asyncpraw.readthedocs.io.\n",
            "See https://praw.readthedocs.io/en/latest/getting_started/multiple_instances.html#discord-bots-and-asynchronous-environments for more info.\n",
            "\n",
            "WARNING:praw:It appears that you are using PRAW in an asynchronous environment.\n",
            "It is strongly recommended to use Async PRAW: https://asyncpraw.readthedocs.io.\n",
            "See https://praw.readthedocs.io/en/latest/getting_started/multiple_instances.html#discord-bots-and-asynchronous-environments for more info.\n",
            "\n"
          ]
        },
        {
          "output_type": "stream",
          "name": "stdout",
          "text": [
            "this is the searchterm  \"Kitten\"\n"
          ]
        },
        {
          "output_type": "stream",
          "name": "stderr",
          "text": [
            "WARNING:praw:It appears that you are using PRAW in an asynchronous environment.\n",
            "It is strongly recommended to use Async PRAW: https://asyncpraw.readthedocs.io.\n",
            "See https://praw.readthedocs.io/en/latest/getting_started/multiple_instances.html#discord-bots-and-asynchronous-environments for more info.\n",
            "\n",
            "WARNING:praw:It appears that you are using PRAW in an asynchronous environment.\n",
            "It is strongly recommended to use Async PRAW: https://asyncpraw.readthedocs.io.\n",
            "See https://praw.readthedocs.io/en/latest/getting_started/multiple_instances.html#discord-bots-and-asynchronous-environments for more info.\n",
            "\n",
            "WARNING:praw:It appears that you are using PRAW in an asynchronous environment.\n",
            "It is strongly recommended to use Async PRAW: https://asyncpraw.readthedocs.io.\n",
            "See https://praw.readthedocs.io/en/latest/getting_started/multiple_instances.html#discord-bots-and-asynchronous-environments for more info.\n",
            "\n"
          ]
        },
        {
          "output_type": "stream",
          "name": "stdout",
          "text": [
            "this is the searchterm  \"Trump\"\n"
          ]
        },
        {
          "output_type": "stream",
          "name": "stderr",
          "text": [
            "WARNING:praw:It appears that you are using PRAW in an asynchronous environment.\n",
            "It is strongly recommended to use Async PRAW: https://asyncpraw.readthedocs.io.\n",
            "See https://praw.readthedocs.io/en/latest/getting_started/multiple_instances.html#discord-bots-and-asynchronous-environments for more info.\n",
            "\n"
          ]
        }
      ],
      "source": [
        "search_list =  ['\"Basketball\"', '\"Train\"', '\"Parrot\"', '\"Kitten\"', '\"Trump\"']\n",
        "\n",
        "def get_dataframe(search_list):\n",
        "    for search_term in search_list:\n",
        "        df= pd.DataFrame(get_data_dict(search_term = search_term, sortsub = sortsub))\n",
        "        df.to_csv(f\"reddit_{search_term}_data.csv\", index=False)\n",
        "        df = df[df[\"Title\"].str.contains(\"Video Games\")==False] \n",
        "        df = df[df[\"Title\"].str.contains(\"Hog rider\")==False]\n",
        "        df = df[df[\"Title\"].str.contains(\"Hog Rider\")==False]\n",
        "\n",
        "get_dataframe(search_list)"
      ]
    },
    {
      "cell_type": "code",
      "execution_count": null,
      "metadata": {
        "id": "4TRlrlInA6zi"
      },
      "outputs": [],
      "source": [
        "df = pd.read_csv('reddit_\"Kitten\"_data.csv')"
      ]
    },
    {
      "cell_type": "code",
      "execution_count": null,
      "metadata": {
        "colab": {
          "base_uri": "https://localhost:8080/",
          "height": 597
        },
        "id": "t_6VZCeoA6zk",
        "outputId": "d522b9f0-f17a-4e2f-fc70-8f394c1cdb8e"
      },
      "outputs": [
        {
          "output_type": "execute_result",
          "data": {
            "text/plain": [
              "    subject                                              Title  score  \\\n",
              "0  \"kitten\"  Josh & Scout, Kitten Saves The Life Of Veteran...      0   \n",
              "1  \"kitten\"                    KITTENS TEST OUT A NEW CAT BED!      0   \n",
              "2  \"kitten\"             Milo helps Mama Kitty with the kittens      3   \n",
              "3  \"kitten\"        Really Loud Librarians by Exploding Kittens      1   \n",
              "4  \"kitten\"                  Kitten hugged little duck tightly     18   \n",
              "\n",
              "   num_comments                                                url  \\\n",
              "0             1        https://www.youtube.com/watch?v=PamDE6IVQ0A   \n",
              "1             0  https://youtube.com/watch?v=EJfy17e5ekg&featur...   \n",
              "2             0        https://www.youtube.com/watch?v=fU2bVnJyzho   \n",
              "3             0                       https://youtu.be/1WdeS9m_vDA   \n",
              "4             9        https://www.youtube.com/watch?v=4ai8-m9Dp_8   \n",
              "\n",
              "        domain  selftext                                          permalink  \\\n",
              "0  youtube.com       NaN  /r/videos/comments/12nwdri/josh_scout_kitten_s...   \n",
              "1  youtube.com       NaN  /r/videos/comments/125ls8z/kittens_test_out_a_...   \n",
              "2  youtube.com       NaN  /r/videos/comments/123bmpd/milo_helps_mama_kit...   \n",
              "3     youtu.be       NaN  /r/videos/comments/11zmeww/really_loud_librari...   \n",
              "4  youtube.com       NaN  /r/videos/comments/11ow0n2/kitten_hugged_littl...   \n",
              "\n",
              "        id subreddit  time_stamp  \n",
              "0  12nwdri    videos  04-16-2023  \n",
              "1  125ls8z    videos  03-29-2023  \n",
              "2  123bmpd    videos  03-27-2023  \n",
              "3  11zmeww    videos  03-23-2023  \n",
              "4  11ow0n2    videos  03-11-2023  "
            ],
            "text/html": [
              "\n",
              "  <div id=\"df-2f20b4eb-1377-4596-9b71-b24c2117e12a\">\n",
              "    <div class=\"colab-df-container\">\n",
              "      <div>\n",
              "<style scoped>\n",
              "    .dataframe tbody tr th:only-of-type {\n",
              "        vertical-align: middle;\n",
              "    }\n",
              "\n",
              "    .dataframe tbody tr th {\n",
              "        vertical-align: top;\n",
              "    }\n",
              "\n",
              "    .dataframe thead th {\n",
              "        text-align: right;\n",
              "    }\n",
              "</style>\n",
              "<table border=\"1\" class=\"dataframe\">\n",
              "  <thead>\n",
              "    <tr style=\"text-align: right;\">\n",
              "      <th></th>\n",
              "      <th>subject</th>\n",
              "      <th>Title</th>\n",
              "      <th>score</th>\n",
              "      <th>num_comments</th>\n",
              "      <th>url</th>\n",
              "      <th>domain</th>\n",
              "      <th>selftext</th>\n",
              "      <th>permalink</th>\n",
              "      <th>id</th>\n",
              "      <th>subreddit</th>\n",
              "      <th>time_stamp</th>\n",
              "    </tr>\n",
              "  </thead>\n",
              "  <tbody>\n",
              "    <tr>\n",
              "      <th>0</th>\n",
              "      <td>\"kitten\"</td>\n",
              "      <td>Josh &amp; Scout, Kitten Saves The Life Of Veteran...</td>\n",
              "      <td>0</td>\n",
              "      <td>1</td>\n",
              "      <td>https://www.youtube.com/watch?v=PamDE6IVQ0A</td>\n",
              "      <td>youtube.com</td>\n",
              "      <td>NaN</td>\n",
              "      <td>/r/videos/comments/12nwdri/josh_scout_kitten_s...</td>\n",
              "      <td>12nwdri</td>\n",
              "      <td>videos</td>\n",
              "      <td>04-16-2023</td>\n",
              "    </tr>\n",
              "    <tr>\n",
              "      <th>1</th>\n",
              "      <td>\"kitten\"</td>\n",
              "      <td>KITTENS TEST OUT A NEW CAT BED!</td>\n",
              "      <td>0</td>\n",
              "      <td>0</td>\n",
              "      <td>https://youtube.com/watch?v=EJfy17e5ekg&amp;featur...</td>\n",
              "      <td>youtube.com</td>\n",
              "      <td>NaN</td>\n",
              "      <td>/r/videos/comments/125ls8z/kittens_test_out_a_...</td>\n",
              "      <td>125ls8z</td>\n",
              "      <td>videos</td>\n",
              "      <td>03-29-2023</td>\n",
              "    </tr>\n",
              "    <tr>\n",
              "      <th>2</th>\n",
              "      <td>\"kitten\"</td>\n",
              "      <td>Milo helps Mama Kitty with the kittens</td>\n",
              "      <td>3</td>\n",
              "      <td>0</td>\n",
              "      <td>https://www.youtube.com/watch?v=fU2bVnJyzho</td>\n",
              "      <td>youtube.com</td>\n",
              "      <td>NaN</td>\n",
              "      <td>/r/videos/comments/123bmpd/milo_helps_mama_kit...</td>\n",
              "      <td>123bmpd</td>\n",
              "      <td>videos</td>\n",
              "      <td>03-27-2023</td>\n",
              "    </tr>\n",
              "    <tr>\n",
              "      <th>3</th>\n",
              "      <td>\"kitten\"</td>\n",
              "      <td>Really Loud Librarians by Exploding Kittens</td>\n",
              "      <td>1</td>\n",
              "      <td>0</td>\n",
              "      <td>https://youtu.be/1WdeS9m_vDA</td>\n",
              "      <td>youtu.be</td>\n",
              "      <td>NaN</td>\n",
              "      <td>/r/videos/comments/11zmeww/really_loud_librari...</td>\n",
              "      <td>11zmeww</td>\n",
              "      <td>videos</td>\n",
              "      <td>03-23-2023</td>\n",
              "    </tr>\n",
              "    <tr>\n",
              "      <th>4</th>\n",
              "      <td>\"kitten\"</td>\n",
              "      <td>Kitten hugged little duck tightly</td>\n",
              "      <td>18</td>\n",
              "      <td>9</td>\n",
              "      <td>https://www.youtube.com/watch?v=4ai8-m9Dp_8</td>\n",
              "      <td>youtube.com</td>\n",
              "      <td>NaN</td>\n",
              "      <td>/r/videos/comments/11ow0n2/kitten_hugged_littl...</td>\n",
              "      <td>11ow0n2</td>\n",
              "      <td>videos</td>\n",
              "      <td>03-11-2023</td>\n",
              "    </tr>\n",
              "  </tbody>\n",
              "</table>\n",
              "</div>\n",
              "      <button class=\"colab-df-convert\" onclick=\"convertToInteractive('df-2f20b4eb-1377-4596-9b71-b24c2117e12a')\"\n",
              "              title=\"Convert this dataframe to an interactive table.\"\n",
              "              style=\"display:none;\">\n",
              "        \n",
              "  <svg xmlns=\"http://www.w3.org/2000/svg\" height=\"24px\"viewBox=\"0 0 24 24\"\n",
              "       width=\"24px\">\n",
              "    <path d=\"M0 0h24v24H0V0z\" fill=\"none\"/>\n",
              "    <path d=\"M18.56 5.44l.94 2.06.94-2.06 2.06-.94-2.06-.94-.94-2.06-.94 2.06-2.06.94zm-11 1L8.5 8.5l.94-2.06 2.06-.94-2.06-.94L8.5 2.5l-.94 2.06-2.06.94zm10 10l.94 2.06.94-2.06 2.06-.94-2.06-.94-.94-2.06-.94 2.06-2.06.94z\"/><path d=\"M17.41 7.96l-1.37-1.37c-.4-.4-.92-.59-1.43-.59-.52 0-1.04.2-1.43.59L10.3 9.45l-7.72 7.72c-.78.78-.78 2.05 0 2.83L4 21.41c.39.39.9.59 1.41.59.51 0 1.02-.2 1.41-.59l7.78-7.78 2.81-2.81c.8-.78.8-2.07 0-2.86zM5.41 20L4 18.59l7.72-7.72 1.47 1.35L5.41 20z\"/>\n",
              "  </svg>\n",
              "      </button>\n",
              "      \n",
              "  <style>\n",
              "    .colab-df-container {\n",
              "      display:flex;\n",
              "      flex-wrap:wrap;\n",
              "      gap: 12px;\n",
              "    }\n",
              "\n",
              "    .colab-df-convert {\n",
              "      background-color: #E8F0FE;\n",
              "      border: none;\n",
              "      border-radius: 50%;\n",
              "      cursor: pointer;\n",
              "      display: none;\n",
              "      fill: #1967D2;\n",
              "      height: 32px;\n",
              "      padding: 0 0 0 0;\n",
              "      width: 32px;\n",
              "    }\n",
              "\n",
              "    .colab-df-convert:hover {\n",
              "      background-color: #E2EBFA;\n",
              "      box-shadow: 0px 1px 2px rgba(60, 64, 67, 0.3), 0px 1px 3px 1px rgba(60, 64, 67, 0.15);\n",
              "      fill: #174EA6;\n",
              "    }\n",
              "\n",
              "    [theme=dark] .colab-df-convert {\n",
              "      background-color: #3B4455;\n",
              "      fill: #D2E3FC;\n",
              "    }\n",
              "\n",
              "    [theme=dark] .colab-df-convert:hover {\n",
              "      background-color: #434B5C;\n",
              "      box-shadow: 0px 1px 3px 1px rgba(0, 0, 0, 0.15);\n",
              "      filter: drop-shadow(0px 1px 2px rgba(0, 0, 0, 0.3));\n",
              "      fill: #FFFFFF;\n",
              "    }\n",
              "  </style>\n",
              "\n",
              "      <script>\n",
              "        const buttonEl =\n",
              "          document.querySelector('#df-2f20b4eb-1377-4596-9b71-b24c2117e12a button.colab-df-convert');\n",
              "        buttonEl.style.display =\n",
              "          google.colab.kernel.accessAllowed ? 'block' : 'none';\n",
              "\n",
              "        async function convertToInteractive(key) {\n",
              "          const element = document.querySelector('#df-2f20b4eb-1377-4596-9b71-b24c2117e12a');\n",
              "          const dataTable =\n",
              "            await google.colab.kernel.invokeFunction('convertToInteractive',\n",
              "                                                     [key], {});\n",
              "          if (!dataTable) return;\n",
              "\n",
              "          const docLinkHtml = 'Like what you see? Visit the ' +\n",
              "            '<a target=\"_blank\" href=https://colab.research.google.com/notebooks/data_table.ipynb>data table notebook</a>'\n",
              "            + ' to learn more about interactive tables.';\n",
              "          element.innerHTML = '';\n",
              "          dataTable['output_type'] = 'display_data';\n",
              "          await google.colab.output.renderOutput(dataTable, element);\n",
              "          const docLink = document.createElement('div');\n",
              "          docLink.innerHTML = docLinkHtml;\n",
              "          element.appendChild(docLink);\n",
              "        }\n",
              "      </script>\n",
              "    </div>\n",
              "  </div>\n",
              "  "
            ]
          },
          "metadata": {},
          "execution_count": 7
        }
      ],
      "source": [
        "df.head()"
      ]
    },
    {
      "cell_type": "code",
      "execution_count": null,
      "metadata": {
        "id": "9DjOZek8A6zk"
      },
      "outputs": [],
      "source": [
        "top_n = df.nlargest(10,\"score\")\n",
        "top_n.reset_index(drop=True, inplace=True)\n"
      ]
    },
    {
      "cell_type": "markdown",
      "metadata": {
        "id": "XUaxJt0KA6zl"
      },
      "source": [
        "We will diplay topics providing the link to the the particular redding post. then we will do a reddit comments search  of the and do sentiment analysis on the comments \n"
      ]
    },
    {
      "cell_type": "code",
      "execution_count": null,
      "metadata": {
        "id": "VWIWsFXYA6zn"
      },
      "outputs": [],
      "source": []
    },
    {
      "cell_type": "code",
      "execution_count": null,
      "metadata": {
        "colab": {
          "base_uri": "https://localhost:8080/"
        },
        "id": "qCPW7UOOA6zo",
        "outputId": "4822797d-2ae3-4cf3-97b3-16c52e0c3ee0"
      },
      "outputs": [
        {
          "output_type": "stream",
          "name": "stdout",
          "text": [
            "Looking in indexes: https://pypi.org/simple, https://us-python.pkg.dev/colab-wheels/public/simple/\n",
            "Collecting vaderSentiment\n",
            "  Downloading vaderSentiment-3.3.2-py2.py3-none-any.whl (125 kB)\n",
            "\u001b[2K     \u001b[90m━━━━━━━━━━━━━━━━━━━━━━━━━━━━━━━━━━━━━━━\u001b[0m \u001b[32m126.0/126.0 kB\u001b[0m \u001b[31m3.1 MB/s\u001b[0m eta \u001b[36m0:00:00\u001b[0m\n",
            "\u001b[?25hRequirement already satisfied: requests in /usr/local/lib/python3.9/dist-packages (from vaderSentiment) (2.27.1)\n",
            "Requirement already satisfied: idna<4,>=2.5 in /usr/local/lib/python3.9/dist-packages (from requests->vaderSentiment) (3.4)\n",
            "Requirement already satisfied: urllib3<1.27,>=1.21.1 in /usr/local/lib/python3.9/dist-packages (from requests->vaderSentiment) (1.26.15)\n",
            "Requirement already satisfied: certifi>=2017.4.17 in /usr/local/lib/python3.9/dist-packages (from requests->vaderSentiment) (2022.12.7)\n",
            "Requirement already satisfied: charset-normalizer~=2.0.0 in /usr/local/lib/python3.9/dist-packages (from requests->vaderSentiment) (2.0.12)\n",
            "Installing collected packages: vaderSentiment\n",
            "Successfully installed vaderSentiment-3.3.2\n"
          ]
        }
      ],
      "source": [
        "!pip install vaderSentiment\n",
        "from vaderSentiment.vaderSentiment import SentimentIntensityAnalyzer\n",
        "analyzer = SentimentIntensityAnalyzer()\n",
        "\n",
        "def senti_analyze(text):\n",
        "    result = analyzer.polarity_scores(text)\n",
        "    sentiment = result[\"compound\"]\n",
        "    if sentiment == 0:\n",
        "        return \"neu\"\n",
        "    elif sentiment < 0:\n",
        "        return \"neg\"\n",
        "    else:\n",
        "        return \"pos\"\n",
        "\n",
        "df[\"sentiment\"] = df[\"Title\"].apply(senti_analyze)"
      ]
    },
    {
      "cell_type": "code",
      "source": [
        "print(df[[\"Title\", \"sentiment\"]])"
      ],
      "metadata": {
        "colab": {
          "base_uri": "https://localhost:8080/"
        },
        "id": "rLIJsytIjJgN",
        "outputId": "08000d5a-98a6-486b-dfb2-1959b78d51ae"
      },
      "execution_count": null,
      "outputs": [
        {
          "output_type": "stream",
          "name": "stdout",
          "text": [
            "                                                 Title sentiment\n",
            "0    Josh & Scout, Kitten Saves The Life Of Veteran...       neg\n",
            "1                      KITTENS TEST OUT A NEW CAT BED!       neu\n",
            "2               Milo helps Mama Kitty with the kittens       pos\n",
            "3          Really Loud Librarians by Exploding Kittens       neu\n",
            "4                    Kitten hugged little duck tightly       pos\n",
            "..                                                 ...       ...\n",
            "214                    PLAYING CATCH WITH LYNX KITTENS       pos\n",
            "215  Maine Coon Mom Cat Watching Her Kittens Cared ...       pos\n",
            "216                         Short cat and kitten fight       neg\n",
            "217         Lets Play The Sims 2 - Bailey the Kitten 😍       pos\n",
            "218              Adorable Kitten Cat Video Compilation       pos\n",
            "\n",
            "[219 rows x 2 columns]\n"
          ]
        }
      ]
    },
    {
      "cell_type": "code",
      "source": [
        "import pandas as pd\n",
        "\n",
        "df2 = df[['Title', 'sentiment']].copy()\n",
        "\n",
        "forth_column = df2.iloc[:, 1] \n",
        "counts = forth_column.value_counts()\n",
        "print(counts) \n",
        "pos_counts = counts[\"pos\"] \n",
        "neg_counts = counts[\"neg\"]\n",
        "neu_counts = counts[\"neu\"]"
      ],
      "metadata": {
        "colab": {
          "base_uri": "https://localhost:8080/"
        },
        "id": "0aAyxSNT0ZdE",
        "outputId": "e2eaf38d-761b-4dd8-ab0e-04f326f2ce48"
      },
      "execution_count": null,
      "outputs": [
        {
          "output_type": "stream",
          "name": "stdout",
          "text": [
            "pos    104\n",
            "neu     78\n",
            "neg     37\n",
            "Name: sentiment, dtype: int64\n"
          ]
        }
      ]
    },
    {
      "cell_type": "code",
      "source": [
        "!pip install py-readability-metrics"
      ],
      "metadata": {
        "colab": {
          "base_uri": "https://localhost:8080/"
        },
        "id": "tYY0_ltH15jy",
        "outputId": "da844a09-841a-44ab-c656-a3fe5ac483ef"
      },
      "execution_count": null,
      "outputs": [
        {
          "output_type": "stream",
          "name": "stdout",
          "text": [
            "Looking in indexes: https://pypi.org/simple, https://us-python.pkg.dev/colab-wheels/public/simple/\n",
            "Collecting py-readability-metrics\n",
            "  Downloading py_readability_metrics-1.4.5-py3-none-any.whl (26 kB)\n",
            "Requirement already satisfied: nltk in /usr/local/lib/python3.9/dist-packages (from py-readability-metrics) (3.8.1)\n",
            "Requirement already satisfied: click in /usr/local/lib/python3.9/dist-packages (from nltk->py-readability-metrics) (8.1.3)\n",
            "Requirement already satisfied: regex>=2021.8.3 in /usr/local/lib/python3.9/dist-packages (from nltk->py-readability-metrics) (2022.10.31)\n",
            "Requirement already satisfied: tqdm in /usr/local/lib/python3.9/dist-packages (from nltk->py-readability-metrics) (4.65.0)\n",
            "Requirement already satisfied: joblib in /usr/local/lib/python3.9/dist-packages (from nltk->py-readability-metrics) (1.2.0)\n",
            "Installing collected packages: py-readability-metrics\n",
            "Successfully installed py-readability-metrics-1.4.5\n"
          ]
        }
      ]
    },
    {
      "cell_type": "code",
      "source": [
        "from readability import Readability\n",
        "import nltk\n",
        "nltk.download('punkt')\n",
        "\n",
        "import pandas as pd\n",
        "\n",
        "output = ' '.join(df2['Title'])\n",
        "\n",
        "text = output\n",
        "\n",
        "r = Readability(text)\n",
        "\n",
        "gunning_fog = r.gunning_fog()\n",
        "\n",
        "gfscore = gunning_fog.score\n",
        "\n",
        "print(gfscore)"
      ],
      "metadata": {
        "colab": {
          "base_uri": "https://localhost:8080/"
        },
        "id": "Q9haPtBM_eSj",
        "outputId": "48a06786-9f7c-4b67-9bf9-439740ebd56c"
      },
      "execution_count": 36,
      "outputs": [
        {
          "output_type": "stream",
          "name": "stdout",
          "text": [
            "10.974480390384963\n"
          ]
        },
        {
          "output_type": "stream",
          "name": "stderr",
          "text": [
            "[nltk_data] Downloading package punkt to /root/nltk_data...\n",
            "[nltk_data]   Package punkt is already up-to-date!\n"
          ]
        }
      ]
    },
    {
      "cell_type": "code",
      "source": [
        "subreddit_name = 'videos'\n",
        "\n",
        "subreddit = reddit.subreddit(subreddit_name)\n",
        "\n",
        "subscribers = subreddit.subscribers\n",
        "\n",
        "print(subscribers)\n"
      ],
      "metadata": {
        "colab": {
          "base_uri": "https://localhost:8080/"
        },
        "id": "qULtK0UuFelP",
        "outputId": "a7d271d3-022b-4ff8-9b1a-a064883994a9"
      },
      "execution_count": 35,
      "outputs": [
        {
          "output_type": "stream",
          "name": "stderr",
          "text": [
            "WARNING:praw:It appears that you are using PRAW in an asynchronous environment.\n",
            "It is strongly recommended to use Async PRAW: https://asyncpraw.readthedocs.io.\n",
            "See https://praw.readthedocs.io/en/latest/getting_started/multiple_instances.html#discord-bots-and-asynchronous-environments for more info.\n",
            "\n"
          ]
        },
        {
          "output_type": "stream",
          "name": "stdout",
          "text": [
            "26684616\n"
          ]
        }
      ]
    },
    {
      "cell_type": "code",
      "source": [
        "Subreddit_Reach_Score = gfscore*(pos_counts+neu_counts-neg_counts)*(subscribers*0.0001)\n",
        "\n",
        "print(Subreddit_Reach_Score)"
      ],
      "metadata": {
        "colab": {
          "base_uri": "https://localhost:8080/"
        },
        "id": "RP2aum8WI44F",
        "outputId": "20088d09-ee3e-4510-9c66-10b41b4063ff"
      },
      "execution_count": 34,
      "outputs": [
        {
          "output_type": "stream",
          "name": "stdout",
          "text": [
            "4246322.027745816\n"
          ]
        }
      ]
    }
  ],
  "metadata": {
    "interpreter": {
      "hash": "6c67f8adbebdea49f93c63d2a2dcd5cb4fed3a722249876be11f90d0fd0a91fc"
    },
    "kernelspec": {
      "display_name": "Python 3 (ipykernel)",
      "language": "python",
      "name": "python3"
    },
    "language_info": {
      "codemirror_mode": {
        "name": "ipython",
        "version": 3
      },
      "file_extension": ".py",
      "mimetype": "text/x-python",
      "name": "python",
      "nbconvert_exporter": "python",
      "pygments_lexer": "ipython3",
      "version": "3.9.5"
    },
    "colab": {
      "provenance": []
    }
  },
  "nbformat": 4,
  "nbformat_minor": 0
}