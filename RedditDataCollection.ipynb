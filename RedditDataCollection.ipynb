{
  "cells": [
    {
      "cell_type": "code",
      "execution_count": 2,
      "id": "81ee31d3",
      "metadata": {
        "tags": [
          "hide-cell"
        ],
        "id": "81ee31d3"
      },
      "outputs": [],
      "source": [
        "import json\n",
        "\n",
        "client_id = \"Xd5MiyoeEEekSgXVvqvKtw\"\n",
        "client_secret = \t\"pyu0f5nbfC7FsxCBqjUo-kudO95Xdw\"\n",
        "user_agent = \"python:demoapp:v1.0.0  (by  u/manofmyth23)\"\n",
        "username = \"manofmyth23\"\n",
        "password = \"uaxpocder\""
      ]
    },
    {
      "cell_type": "code",
      "execution_count": 3,
      "id": "92471743",
      "metadata": {
        "colab": {
          "base_uri": "https://localhost:8080/"
        },
        "id": "92471743",
        "outputId": "e81131a7-777b-481f-9f18-b66aeee51e21"
      },
      "outputs": [
        {
          "output_type": "stream",
          "name": "stdout",
          "text": [
            "Looking in indexes: https://pypi.org/simple, https://us-python.pkg.dev/colab-wheels/public/simple/\n",
            "Collecting reddit_data_collector\n",
            "  Downloading reddit_data_collector-1.1.0-py3-none-any.whl (11 kB)\n",
            "Collecting praw>=7.5.0\n",
            "  Downloading praw-7.7.0-py3-none-any.whl (189 kB)\n",
            "\u001b[2K     \u001b[90m━━━━━━━━━━━━━━━━━━━━━━━━━━━━━━━━━━━━━━\u001b[0m \u001b[32m189.4/189.4 kB\u001b[0m \u001b[31m16.2 MB/s\u001b[0m eta \u001b[36m0:00:00\u001b[0m\n",
            "\u001b[?25hRequirement already satisfied: pandas>=1.3.5 in /usr/local/lib/python3.9/dist-packages (from reddit_data_collector) (1.5.3)\n",
            "Requirement already satisfied: tqdm>=4.62.3 in /usr/local/lib/python3.9/dist-packages (from reddit_data_collector) (4.65.0)\n",
            "Requirement already satisfied: pytz>=2020.1 in /usr/local/lib/python3.9/dist-packages (from pandas>=1.3.5->reddit_data_collector) (2022.7.1)\n",
            "Requirement already satisfied: numpy>=1.20.3 in /usr/local/lib/python3.9/dist-packages (from pandas>=1.3.5->reddit_data_collector) (1.22.4)\n",
            "Requirement already satisfied: python-dateutil>=2.8.1 in /usr/local/lib/python3.9/dist-packages (from pandas>=1.3.5->reddit_data_collector) (2.8.2)\n",
            "Collecting update-checker>=0.18\n",
            "  Downloading update_checker-0.18.0-py3-none-any.whl (7.0 kB)\n",
            "Requirement already satisfied: websocket-client>=0.54.0 in /usr/local/lib/python3.9/dist-packages (from praw>=7.5.0->reddit_data_collector) (1.5.1)\n",
            "Collecting prawcore<3,>=2.1\n",
            "  Downloading prawcore-2.3.0-py3-none-any.whl (16 kB)\n",
            "Requirement already satisfied: requests<3.0,>=2.6.0 in /usr/local/lib/python3.9/dist-packages (from prawcore<3,>=2.1->praw>=7.5.0->reddit_data_collector) (2.27.1)\n",
            "Requirement already satisfied: six>=1.5 in /usr/local/lib/python3.9/dist-packages (from python-dateutil>=2.8.1->pandas>=1.3.5->reddit_data_collector) (1.16.0)\n",
            "Requirement already satisfied: idna<4,>=2.5 in /usr/local/lib/python3.9/dist-packages (from requests<3.0,>=2.6.0->prawcore<3,>=2.1->praw>=7.5.0->reddit_data_collector) (3.4)\n",
            "Requirement already satisfied: charset-normalizer~=2.0.0 in /usr/local/lib/python3.9/dist-packages (from requests<3.0,>=2.6.0->prawcore<3,>=2.1->praw>=7.5.0->reddit_data_collector) (2.0.12)\n",
            "Requirement already satisfied: certifi>=2017.4.17 in /usr/local/lib/python3.9/dist-packages (from requests<3.0,>=2.6.0->prawcore<3,>=2.1->praw>=7.5.0->reddit_data_collector) (2022.12.7)\n",
            "Requirement already satisfied: urllib3<1.27,>=1.21.1 in /usr/local/lib/python3.9/dist-packages (from requests<3.0,>=2.6.0->prawcore<3,>=2.1->praw>=7.5.0->reddit_data_collector) (1.26.15)\n",
            "Installing collected packages: update-checker, prawcore, praw, reddit_data_collector\n",
            "Successfully installed praw-7.7.0 prawcore-2.3.0 reddit_data_collector-1.1.0 update-checker-0.18.0\n"
          ]
        }
      ],
      "source": [
        "!pip install reddit_data_collector\n",
        "import reddit_data_collector as rdc"
      ]
    },
    {
      "cell_type": "code",
      "execution_count": 4,
      "id": "a6419e44-e5e7-469a-8a3d-bc0fbcf8ba0c",
      "metadata": {
        "id": "a6419e44-e5e7-469a-8a3d-bc0fbcf8ba0c"
      },
      "outputs": [],
      "source": [
        "data_collector = rdc.DataCollector(\n",
        "    client_id=client_id,\n",
        "    client_secret=client_secret,\n",
        "    user_agent=user_agent,\n",
        "    username=username,\n",
        "    password=password\n",
        ")"
      ]
    },
    {
      "cell_type": "code",
      "execution_count": 5,
      "id": "b49388f7",
      "metadata": {
        "colab": {
          "base_uri": "https://localhost:8080/"
        },
        "id": "b49388f7",
        "outputId": "955757f7-29ac-44b4-a423-f0bd793ba975"
      },
      "outputs": [
        {
          "output_type": "stream",
          "name": "stderr",
          "text": [
            "WARNING:praw:It appears that you are using PRAW in an asynchronous environment.\n",
            "It is strongly recommended to use Async PRAW: https://asyncpraw.readthedocs.io.\n",
            "See https://praw.readthedocs.io/en/latest/getting_started/multiple_instances.html#discord-bots-and-asynchronous-environments for more info.\n",
            "\n",
            "WARNING:praw:It appears that you are using PRAW in an asynchronous environment.\n",
            "It is strongly recommended to use Async PRAW: https://asyncpraw.readthedocs.io.\n",
            "See https://praw.readthedocs.io/en/latest/getting_started/multiple_instances.html#discord-bots-and-asynchronous-environments for more info.\n",
            "\n",
            "Collecting hot r/pics posts:   0%|          | 0/10 [00:00<?, ?it/s]WARNING:praw:It appears that you are using PRAW in an asynchronous environment.\n",
            "It is strongly recommended to use Async PRAW: https://asyncpraw.readthedocs.io.\n",
            "See https://praw.readthedocs.io/en/latest/getting_started/multiple_instances.html#discord-bots-and-asynchronous-environments for more info.\n",
            "\n",
            "Collecting hot r/pics posts: 100%|██████████| 10/10 [00:00<00:00, 38.55it/s]\n",
            "Collecting hot r/funny posts:   0%|          | 0/10 [00:00<?, ?it/s]WARNING:praw:It appears that you are using PRAW in an asynchronous environment.\n",
            "It is strongly recommended to use Async PRAW: https://asyncpraw.readthedocs.io.\n",
            "See https://praw.readthedocs.io/en/latest/getting_started/multiple_instances.html#discord-bots-and-asynchronous-environments for more info.\n",
            "\n",
            "Collecting hot r/funny posts: 100%|██████████| 10/10 [00:00<00:00, 39.35it/s]\n",
            "Collecting comments for 10 r/pics posts:   0%|          | 0/10 [00:00<?, ?it/s]WARNING:praw:It appears that you are using PRAW in an asynchronous environment.\n",
            "It is strongly recommended to use Async PRAW: https://asyncpraw.readthedocs.io.\n",
            "See https://praw.readthedocs.io/en/latest/getting_started/multiple_instances.html#discord-bots-and-asynchronous-environments for more info.\n",
            "\n",
            "Collecting comments for 10 r/pics posts:  10%|█         | 1/10 [00:01<00:16,  1.83s/it]WARNING:praw:It appears that you are using PRAW in an asynchronous environment.\n",
            "It is strongly recommended to use Async PRAW: https://asyncpraw.readthedocs.io.\n",
            "See https://praw.readthedocs.io/en/latest/getting_started/multiple_instances.html#discord-bots-and-asynchronous-environments for more info.\n",
            "\n",
            "Collecting comments for 10 r/pics posts:  20%|██        | 2/10 [00:05<00:24,  3.08s/it]WARNING:praw:It appears that you are using PRAW in an asynchronous environment.\n",
            "It is strongly recommended to use Async PRAW: https://asyncpraw.readthedocs.io.\n",
            "See https://praw.readthedocs.io/en/latest/getting_started/multiple_instances.html#discord-bots-and-asynchronous-environments for more info.\n",
            "\n",
            "Collecting comments for 10 r/pics posts:  30%|███       | 3/10 [00:06<00:12,  1.82s/it]WARNING:praw:It appears that you are using PRAW in an asynchronous environment.\n",
            "It is strongly recommended to use Async PRAW: https://asyncpraw.readthedocs.io.\n",
            "See https://praw.readthedocs.io/en/latest/getting_started/multiple_instances.html#discord-bots-and-asynchronous-environments for more info.\n",
            "\n",
            "Collecting comments for 10 r/pics posts:  40%|████      | 4/10 [00:06<00:07,  1.28s/it]WARNING:praw:It appears that you are using PRAW in an asynchronous environment.\n",
            "It is strongly recommended to use Async PRAW: https://asyncpraw.readthedocs.io.\n",
            "See https://praw.readthedocs.io/en/latest/getting_started/multiple_instances.html#discord-bots-and-asynchronous-environments for more info.\n",
            "\n",
            "Collecting comments for 10 r/pics posts:  50%|█████     | 5/10 [00:10<00:10,  2.07s/it]WARNING:praw:It appears that you are using PRAW in an asynchronous environment.\n",
            "It is strongly recommended to use Async PRAW: https://asyncpraw.readthedocs.io.\n",
            "See https://praw.readthedocs.io/en/latest/getting_started/multiple_instances.html#discord-bots-and-asynchronous-environments for more info.\n",
            "\n",
            "Collecting comments for 10 r/pics posts:  60%|██████    | 6/10 [00:10<00:06,  1.50s/it]WARNING:praw:It appears that you are using PRAW in an asynchronous environment.\n",
            "It is strongly recommended to use Async PRAW: https://asyncpraw.readthedocs.io.\n",
            "See https://praw.readthedocs.io/en/latest/getting_started/multiple_instances.html#discord-bots-and-asynchronous-environments for more info.\n",
            "\n",
            "Collecting comments for 10 r/pics posts:  70%|███████   | 7/10 [00:13<00:06,  2.08s/it]WARNING:praw:It appears that you are using PRAW in an asynchronous environment.\n",
            "It is strongly recommended to use Async PRAW: https://asyncpraw.readthedocs.io.\n",
            "See https://praw.readthedocs.io/en/latest/getting_started/multiple_instances.html#discord-bots-and-asynchronous-environments for more info.\n",
            "\n",
            "Collecting comments for 10 r/pics posts:  80%|████████  | 8/10 [00:14<00:03,  1.67s/it]WARNING:praw:It appears that you are using PRAW in an asynchronous environment.\n",
            "It is strongly recommended to use Async PRAW: https://asyncpraw.readthedocs.io.\n",
            "See https://praw.readthedocs.io/en/latest/getting_started/multiple_instances.html#discord-bots-and-asynchronous-environments for more info.\n",
            "\n",
            "Collecting comments for 10 r/pics posts:  90%|█████████ | 9/10 [00:14<00:01,  1.20s/it]WARNING:praw:It appears that you are using PRAW in an asynchronous environment.\n",
            "It is strongly recommended to use Async PRAW: https://asyncpraw.readthedocs.io.\n",
            "See https://praw.readthedocs.io/en/latest/getting_started/multiple_instances.html#discord-bots-and-asynchronous-environments for more info.\n",
            "\n",
            "Collecting comments for 10 r/pics posts: 100%|██████████| 10/10 [00:15<00:00,  1.55s/it]\n",
            "Collecting comments for 10 r/funny posts:   0%|          | 0/10 [00:00<?, ?it/s]WARNING:praw:It appears that you are using PRAW in an asynchronous environment.\n",
            "It is strongly recommended to use Async PRAW: https://asyncpraw.readthedocs.io.\n",
            "See https://praw.readthedocs.io/en/latest/getting_started/multiple_instances.html#discord-bots-and-asynchronous-environments for more info.\n",
            "\n",
            "Collecting comments for 10 r/funny posts:  10%|█         | 1/10 [00:00<00:04,  2.14it/s]WARNING:praw:It appears that you are using PRAW in an asynchronous environment.\n",
            "It is strongly recommended to use Async PRAW: https://asyncpraw.readthedocs.io.\n",
            "See https://praw.readthedocs.io/en/latest/getting_started/multiple_instances.html#discord-bots-and-asynchronous-environments for more info.\n",
            "\n",
            "Collecting comments for 10 r/funny posts:  20%|██        | 2/10 [00:00<00:03,  2.38it/s]WARNING:praw:It appears that you are using PRAW in an asynchronous environment.\n",
            "It is strongly recommended to use Async PRAW: https://asyncpraw.readthedocs.io.\n",
            "See https://praw.readthedocs.io/en/latest/getting_started/multiple_instances.html#discord-bots-and-asynchronous-environments for more info.\n",
            "\n",
            "Collecting comments for 10 r/funny posts:  30%|███       | 3/10 [00:04<00:12,  1.78s/it]WARNING:praw:It appears that you are using PRAW in an asynchronous environment.\n",
            "It is strongly recommended to use Async PRAW: https://asyncpraw.readthedocs.io.\n",
            "See https://praw.readthedocs.io/en/latest/getting_started/multiple_instances.html#discord-bots-and-asynchronous-environments for more info.\n",
            "\n",
            "Collecting comments for 10 r/funny posts:  40%|████      | 4/10 [00:05<00:08,  1.48s/it]WARNING:praw:It appears that you are using PRAW in an asynchronous environment.\n",
            "It is strongly recommended to use Async PRAW: https://asyncpraw.readthedocs.io.\n",
            "See https://praw.readthedocs.io/en/latest/getting_started/multiple_instances.html#discord-bots-and-asynchronous-environments for more info.\n",
            "\n",
            "Collecting comments for 10 r/funny posts:  50%|█████     | 5/10 [00:06<00:07,  1.55s/it]WARNING:praw:It appears that you are using PRAW in an asynchronous environment.\n",
            "It is strongly recommended to use Async PRAW: https://asyncpraw.readthedocs.io.\n",
            "See https://praw.readthedocs.io/en/latest/getting_started/multiple_instances.html#discord-bots-and-asynchronous-environments for more info.\n",
            "\n",
            "Collecting comments for 10 r/funny posts:  60%|██████    | 6/10 [00:07<00:05,  1.30s/it]WARNING:praw:It appears that you are using PRAW in an asynchronous environment.\n",
            "It is strongly recommended to use Async PRAW: https://asyncpraw.readthedocs.io.\n",
            "See https://praw.readthedocs.io/en/latest/getting_started/multiple_instances.html#discord-bots-and-asynchronous-environments for more info.\n",
            "\n",
            "Collecting comments for 10 r/funny posts:  70%|███████   | 7/10 [00:07<00:02,  1.07it/s]WARNING:praw:It appears that you are using PRAW in an asynchronous environment.\n",
            "It is strongly recommended to use Async PRAW: https://asyncpraw.readthedocs.io.\n",
            "See https://praw.readthedocs.io/en/latest/getting_started/multiple_instances.html#discord-bots-and-asynchronous-environments for more info.\n",
            "\n",
            "Collecting comments for 10 r/funny posts:  80%|████████  | 8/10 [00:09<00:02,  1.22s/it]WARNING:praw:It appears that you are using PRAW in an asynchronous environment.\n",
            "It is strongly recommended to use Async PRAW: https://asyncpraw.readthedocs.io.\n",
            "See https://praw.readthedocs.io/en/latest/getting_started/multiple_instances.html#discord-bots-and-asynchronous-environments for more info.\n",
            "\n",
            "Collecting comments for 10 r/funny posts:  90%|█████████ | 9/10 [00:11<00:01,  1.30s/it]WARNING:praw:It appears that you are using PRAW in an asynchronous environment.\n",
            "It is strongly recommended to use Async PRAW: https://asyncpraw.readthedocs.io.\n",
            "See https://praw.readthedocs.io/en/latest/getting_started/multiple_instances.html#discord-bots-and-asynchronous-environments for more info.\n",
            "\n",
            "Collecting comments for 10 r/funny posts: 100%|██████████| 10/10 [00:12<00:00,  1.27s/it]\n"
          ]
        }
      ],
      "source": [
        "posts, comments = data_collector.get_data(\n",
        "    subreddits=[\"pics\", \"funny\"],\n",
        "    post_filter=\"hot\",\n",
        "    post_limit=10,\n",
        "    comment_data=True,\n",
        "    replies_data=True,\n",
        "    replace_more_limit=0,\n",
        "    dataframe=True\n",
        ")"
      ]
    },
    {
      "cell_type": "code",
      "execution_count": 6,
      "id": "2c1f5578-82ae-4b58-a415-5f6181876d55",
      "metadata": {
        "colab": {
          "base_uri": "https://localhost:8080/"
        },
        "id": "2c1f5578-82ae-4b58-a415-5f6181876d55",
        "outputId": "55d1b1b2-b844-48bd-fb2a-2f4fa860baad"
      },
      "outputs": [
        {
          "output_type": "stream",
          "name": "stdout",
          "text": [
            "<class 'pandas.core.frame.DataFrame'>\n",
            "RangeIndex: 20 entries, 0 to 19\n",
            "Data columns (total 15 columns):\n",
            " #   Column               Non-Null Count  Dtype  \n",
            "---  ------               --------------  -----  \n",
            " 0   subreddit_name       20 non-null     object \n",
            " 1   post_created_utc     20 non-null     float64\n",
            " 2   id                   20 non-null     object \n",
            " 3   is_original_content  20 non-null     bool   \n",
            " 4   is_self              20 non-null     bool   \n",
            " 5   link_flair_text      4 non-null      object \n",
            " 6   locked               20 non-null     bool   \n",
            " 7   num_comments         20 non-null     int64  \n",
            " 8   over_18              20 non-null     bool   \n",
            " 9   score                20 non-null     int64  \n",
            " 10  spoiler              20 non-null     bool   \n",
            " 11  stickied             20 non-null     bool   \n",
            " 12  title                20 non-null     object \n",
            " 13  upvote_ratio         20 non-null     float64\n",
            " 14  url                  20 non-null     object \n",
            "dtypes: bool(6), float64(2), int64(2), object(5)\n",
            "memory usage: 1.6+ KB\n"
          ]
        }
      ],
      "source": [
        "posts.info()"
      ]
    },
    {
      "cell_type": "code",
      "execution_count": 7,
      "id": "7bfdd82d-0e6d-450c-af7f-fad9848a09ac",
      "metadata": {
        "colab": {
          "base_uri": "https://localhost:8080/"
        },
        "id": "7bfdd82d-0e6d-450c-af7f-fad9848a09ac",
        "outputId": "0a184aa7-85db-4cc6-c405-1507a57d8b91"
      },
      "outputs": [
        {
          "output_type": "stream",
          "name": "stdout",
          "text": [
            "<class 'pandas.core.frame.DataFrame'>\n",
            "RangeIndex: 3662 entries, 0 to 3661\n",
            "Data columns (total 10 columns):\n",
            " #   Column               Non-Null Count  Dtype  \n",
            "---  ------               --------------  -----  \n",
            " 0   subreddit_name       3662 non-null   object \n",
            " 1   id                   3662 non-null   object \n",
            " 2   post_id              3662 non-null   object \n",
            " 3   parent_id            3662 non-null   object \n",
            " 4   top_level_comment    3662 non-null   bool   \n",
            " 5   body                 3662 non-null   object \n",
            " 6   comment_created_utc  3662 non-null   float64\n",
            " 7   is_submitter         3662 non-null   bool   \n",
            " 8   score                3662 non-null   int64  \n",
            " 9   stickied             3662 non-null   bool   \n",
            "dtypes: bool(3), float64(1), int64(1), object(5)\n",
            "memory usage: 211.1+ KB\n"
          ]
        }
      ],
      "source": [
        "comments.info()"
      ]
    },
    {
      "cell_type": "code",
      "source": [
        "from google.colab import drive\n",
        "drive.mount('/content/drive')"
      ],
      "metadata": {
        "colab": {
          "base_uri": "https://localhost:8080/"
        },
        "id": "jWtbdj4grKyK",
        "outputId": "86821ecc-df58-4811-f096-f2b7c986aaff"
      },
      "id": "jWtbdj4grKyK",
      "execution_count": 9,
      "outputs": [
        {
          "output_type": "stream",
          "name": "stdout",
          "text": [
            "Mounted at /content/drive\n"
          ]
        }
      ]
    },
    {
      "cell_type": "code",
      "execution_count": 14,
      "id": "101dd588",
      "metadata": {
        "id": "101dd588"
      },
      "outputs": [],
      "source": [
        "posts.to_csv(\"/content/drive/My Drive/test.csv\", index=False)\n",
        "comments.to_csv(\"/content/drive/My Drive/test2.csv\", index=False)"
      ]
    },
    {
      "cell_type": "code",
      "execution_count": null,
      "id": "acdf8190",
      "metadata": {
        "id": "acdf8190",
        "outputId": "04bec66c-5ce5-44a1-efe0-e01faa4e484c"
      },
      "outputs": [
        {
          "name": "stderr",
          "output_type": "stream",
          "text": [
            "Collecting top r/pics posts: 74it [00:00, 74.14it/s]\n",
            "Collecting top r/funny posts: 100it [00:01, 62.50it/s]\n",
            "Collecting comments for 74 r/pics posts: 100%|██| 74/74 [00:25<00:00,  2.96it/s]\n",
            "Collecting comments for 100 r/funny posts: 100%|█| 100/100 [01:21<00:00,  1.23it\n"
          ]
        }
      ],
      "source": [
        "more_posts, more_comments = data_collector.get_data(\n",
        "    subreddits=[\"pics\", \"funny\"],\n",
        "    post_filter=\"top\",\n",
        "    top_post_filter=\"day\",\n",
        "    comment_data=True,\n",
        "    replies_data=False,\n",
        "    replace_more_limit=0\n",
        ")"
      ]
    },
    {
      "cell_type": "code",
      "execution_count": null,
      "id": "f393b82c-90c1-4d4e-85cb-e062259383b5",
      "metadata": {
        "id": "f393b82c-90c1-4d4e-85cb-e062259383b5",
        "outputId": "e5324b99-5f96-4d9d-c1ed-51a9d6aa386b"
      },
      "outputs": [
        {
          "data": {
            "text/plain": [
              "(174, 15)"
            ]
          },
          "execution_count": 10,
          "metadata": {},
          "output_type": "execute_result"
        }
      ],
      "source": [
        "more_posts.shape"
      ]
    },
    {
      "cell_type": "code",
      "execution_count": null,
      "id": "38fadd28-3ccd-4d96-b117-4ca8ed3d2c76",
      "metadata": {
        "id": "38fadd28-3ccd-4d96-b117-4ca8ed3d2c76",
        "outputId": "1273c11d-1cda-4f2b-f8de-a2ede8c03656"
      },
      "outputs": [
        {
          "data": {
            "text/plain": [
              "(3978, 10)"
            ]
          },
          "execution_count": 11,
          "metadata": {},
          "output_type": "execute_result"
        }
      ],
      "source": [
        "more_comments.shape"
      ]
    },
    {
      "cell_type": "code",
      "execution_count": null,
      "id": "a426a79b",
      "metadata": {
        "id": "a426a79b"
      },
      "outputs": [],
      "source": [
        "# where we saved post and comment data in step 4\n",
        "posts_csv_path = \"/content/drive/My Drive/test.csv\"\n",
        "comments_csv_path = \"/content/drive/My Drive/test2.csv\"\n",
        "\n",
        "updated_posts = rdc.update_data(\n",
        "    posts_csv_path,\n",
        "    more_posts,\n",
        "    save=True\n",
        ")\n",
        "\n",
        "updated_comments = rdc.update_data(\n",
        "    comments_csv_path,\n",
        "    more_comments,\n",
        "    save=True\n",
        ")"
      ]
    },
    {
      "cell_type": "code",
      "execution_count": null,
      "id": "45caf672-9e61-48fd-97b7-0f06cdaf013d",
      "metadata": {
        "id": "45caf672-9e61-48fd-97b7-0f06cdaf013d",
        "outputId": "d894eade-551b-4a91-ecf9-78171a62e68f"
      },
      "outputs": [
        {
          "name": "stdout",
          "output_type": "stream",
          "text": [
            "Posts collected...\n",
            "First collection: 20\n",
            "Second collection: 174\n",
            "After merging: 176\n"
          ]
        }
      ],
      "source": [
        "print(\"Posts collected...\")\n",
        "print(f\"First collection: {posts.shape[0]}\")\n",
        "print(f\"Second collection: {more_posts.shape[0]}\")\n",
        "print(f\"After merging: {updated_posts.shape[0]}\")"
      ]
    },
    {
      "cell_type": "code",
      "execution_count": null,
      "id": "7c09c4dc",
      "metadata": {
        "id": "7c09c4dc",
        "outputId": "0aae385d-ee0e-4bfb-8951-d4f2ae8d8b7d"
      },
      "outputs": [
        {
          "name": "stdout",
          "output_type": "stream",
          "text": [
            "Comments collected...\n",
            "First collection: 3918\n",
            "Second collection: 3978\n",
            "After merging: 6066\n"
          ]
        }
      ],
      "source": [
        "print(\"Comments collected...\")\n",
        "print(f\"First collection: {comments.shape[0]}\")\n",
        "print(f\"Second collection: {more_comments.shape[0]}\")\n",
        "print(f\"After merging: {updated_comments.shape[0]}\")"
      ]
    }
  ],
  "metadata": {
    "kernelspec": {
      "display_name": "Python [conda env:reddit-data-collector]",
      "language": "python",
      "name": "conda-env-reddit-data-collector-py"
    },
    "language_info": {
      "codemirror_mode": {
        "name": "ipython",
        "version": 3
      },
      "file_extension": ".py",
      "mimetype": "text/x-python",
      "name": "python",
      "nbconvert_exporter": "python",
      "pygments_lexer": "ipython3",
      "version": "3.10.1"
    },
    "colab": {
      "provenance": []
    }
  },
  "nbformat": 4,
  "nbformat_minor": 5
}